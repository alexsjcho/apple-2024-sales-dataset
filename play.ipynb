{
 "cells": [
  {
   "cell_type": "code",
   "execution_count": null,
   "metadata": {},
   "outputs": [],
   "source": [
    "{\n",
    " \"cells\": [\n",
    "  {\n",
    "   \"cell_type\": \"code\",\n",
    "   \"execution_count\": null,\n",
    "   \"metadata\": {},\n",
    "   \"source\": [\n",
    "    \"# Import required libraries\\n\",\n",
    "    \"from dotenv import load_dotenv\\n\",\n",
    "    \"load_dotenv()\\n\",\n",
    "    \"\\n\",\n",
    "    \"import kaggle\\n\",\n",
    "    \"kaggle.api.authenticate()\\n\",\n",
    "    \"\\n\",\n",
    "    \"import pandas as pd \\n\",\n",
    "    \"import numpy as np \\n\",\n",
    "    \"import matplotlib.pyplot as plt\\n\",\n",
    "    \"import seaborn as sns \\n\",\n",
    "    \"import warnings \\n\",\n",
    "    \"warnings.filterwarnings(\\\"ignore\\\")\\n\",\n",
    "    \"\\n\",\n",
    "    \"# Load Dataset\\n\",\n",
    "    \"import kagglehub\\n\",\n",
    "    \"import os\\n\",\n",
    "    \"\\n\",\n",
    "    \"# Download latest version\\n\",\n",
    "    \"path = kagglehub.dataset_download(\\\"ayushcx/apple-sales-dataset-2024\\\")\\n\",\n",
    "    \"\\n\",\n",
    "    \"# Find the CSV file in the directory\\n\",\n",
    "    \"csv_path = os.path.join(path, \\\"apple_sales_2024.csv\\\")  # Add the actual CSV filename\\n\",\n",
    "    \"df = pd.read_csv(csv_path)\\n\",\n",
    "    \"print(df.head())\"\n",
    "   ]\n",
    "  }\n",
    " ],\n",
    " \"metadata\": {\n",
    "  \"kernelspec\": {\n",
    "   \"display_name\": \"Python 3\",\n",
    "   \"language\": \"python\",\n",
    "   \"name\": \"python3\"\n",
    "  },\n",
    "  \"language_info\": {\n",
    "   \"codemirror_mode\": {\n",
    "    \"name\": \"ipython\",\n",
    "    \"version\": 3\n",
    "   },\n",
    "   \"file_extension\": \".py\",\n",
    "   \"mimetype\": \"text/x-python\",\n",
    "   \"name\": \"python\",\n",
    "   \"nbconvert_exporter\": \"python\",\n",
    "   \"pygments_lexer\": \"ipython3\",\n",
    "   \"version\": \"3."
   ]
  },
  {
   "cell_type": "code",
   "execution_count": null,
   "metadata": {},
   "outputs": [],
   "source": [
    "from dotenv import load_dotenv\n",
    "load_dotenv()"
   ]
  },
  {
   "cell_type": "code",
   "execution_count": 2,
   "metadata": {},
   "outputs": [],
   "source": [
    "import kaggle\n",
    "\n",
    "kaggle.api.authenticate()"
   ]
  },
  {
   "cell_type": "markdown",
   "metadata": {},
   "source": [
    "#Import Libraries"
   ]
  },
  {
   "cell_type": "code",
   "execution_count": 8,
   "metadata": {},
   "outputs": [],
   "source": [
    "import pandas as pd \n",
    "import numpy as np \n",
    "import matplotlib.pyplot as plt\n",
    "import seaborn as sns \n",
    "import warnings \n",
    "warnings.filterwarnings(\"ignore\")"
   ]
  },
  {
   "cell_type": "markdown",
   "metadata": {},
   "source": [
    "#Load Dataset"
   ]
  },
  {
   "cell_type": "code",
   "execution_count": 15,
   "metadata": {},
   "outputs": [
    {
     "name": "stdout",
     "output_type": "stream",
     "text": [
      "       State         Region  iPhone Sales (in million units)  \\\n",
      "0  Chongqing  Greater China                             7.46   \n",
      "1    Germany         Europe                             8.63   \n",
      "2         UK         Europe                             5.61   \n",
      "3   Shanghai  Greater China                             7.82   \n",
      "4   Thailand   Rest of Asia                            16.70   \n",
      "\n",
      "   iPad Sales (in million units)  Mac Sales (in million units)  \\\n",
      "0                           6.75                          1.19   \n",
      "1                          14.06                          7.03   \n",
      "2                          14.09                          8.78   \n",
      "3                           7.97                          9.78   \n",
      "4                           8.13                          6.46   \n",
      "\n",
      "   Wearables (in million units)  Services Revenue (in billion $)  \n",
      "0                          5.88                            15.88  \n",
      "1                          7.42                            10.12  \n",
      "2                          8.19                            19.85  \n",
      "3                          2.28                             6.16  \n",
      "4                          3.48                            13.29  \n"
     ]
    }
   ],
   "source": [
    "import kagglehub\n",
    "\n",
    "import os\n",
    "\n",
    "# Download latest version\n",
    "path = kagglehub.dataset_download(\"ayushcx/apple-sales-dataset-2024\")\n",
    "\n",
    "# Find the CSV file in the directory\n",
    "csv_path = os.path.join(path, \"apple_sales_2024.csv\")  # Add the actual CSV filename\n",
    "df = pd.read_csv(csv_path)\n",
    "print(df.head())\n"
   ]
  }
 ],
 "metadata": {
  "kernelspec": {
   "display_name": ".venv",
   "language": "python",
   "name": "python3"
  },
  "language_info": {
   "codemirror_mode": {
    "name": "ipython",
    "version": 3
   },
   "file_extension": ".py",
   "mimetype": "text/x-python",
   "name": "python",
   "nbconvert_exporter": "python",
   "pygments_lexer": "ipython3",
   "version": "3.12.2"
  }
 },
 "nbformat": 4,
 "nbformat_minor": 2
}
